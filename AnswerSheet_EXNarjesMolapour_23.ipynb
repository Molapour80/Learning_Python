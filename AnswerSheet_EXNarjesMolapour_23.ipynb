{
 "cells": [
  {
   "cell_type": "markdown",
   "id": "fb7a8054",
   "metadata": {},
   "source": [
    "<div style=\"color: white;padding-top:18px;text-align:center;background-color:#8B008B;border-radius:15px;border: 1px solid white;\"> \n",
    "    <h3>Exercise 23 (score:200 + 100)</h3>\n",
    "</div>"
   ]
  },
  {
   "cell_type": "markdown",
   "id": "29ad32e1",
   "metadata": {},
   "source": [
    "###"
   ]
  },
  {
   "cell_type": "markdown",
   "id": "bd5458df",
   "metadata": {},
   "source": [
    "<div style=\"color: black;font-family:Georgia;padding-top:18px;text-align:left;background-color:lightskyblue;border-radius:15px;border: 2px solid cornflowerblue;\">\n",
    "    <h4>Question 01 (Encapsulation)(150):</h4>\n",
    "    <p>Using the iTunes Search API, create an object-oriented Python application to interact with it.</p> \n",
    "<li>Allow the userto search for music by entering the name ofthe song.</li>\n",
    "<li>Display the search results in a clear and user-friendly format, including details such as track\n",
    "name, artist name, album name, and a link to listen to the track on iTunes.</li>\n",
    "\n",
    "\n",
    "<ul>The iTunes Search API is open and does notrequire authentication or APItokens for basic\n",
    "functionality</ul>\n",
    "<ul>url = f\"https://itunes.apple.com/search?term={track_name}&media=music\"</ul>\n",
    "    \n",
    "</div>"
   ]
  },
  {
   "cell_type": "code",
   "execution_count": 14,
   "id": "99937553-2a26-4787-b365-d46f41243c5e",
   "metadata": {},
   "outputs": [
    {
     "name": "stdout",
     "output_type": "stream",
     "text": [
      "Search Results:\n",
      "('In het stille klooster', 'TRACKNAME', 'De Kist Van Pierlala', 'https://audio-ssl.itunes.apple.com/itunes-assets/Music3/v4/79/00/c8/7900c8c4-d3e8-e4e1-52de-ab0fbccce4d3/mzaf_84156905382973901.plus.aac.p.m4a')\n",
      "('TRACKNAME', 'ARCHEZ', 'TRACKNAME - Single', 'https://audio-ssl.itunes.apple.com/itunes-assets/AudioPreview116/v4/ce/53/a8/ce53a8ec-bbb9-4f5c-5aca-0902fa7e2fa5/mzaf_2181487132160859368.plus.aac.p.m4a')\n",
      "('TrackName', 'Mllx.Kaz', 'TrackName - Single', 'https://audio-ssl.itunes.apple.com/itunes-assets/AudioPreview122/v4/ff/86/09/ff8609f8-52bb-d675-9460-2cc208a4c369/mzaf_14826200023527015574.plus.aac.p.m4a')\n",
      "('Trackname', 'Bandido Fogeto', 'Trackname - Single', 'https://audio-ssl.itunes.apple.com/itunes-assets/AudioPreview122/v4/fa/a9/51/faa95187-b2b9-2dda-c95f-b195b39e0b49/mzaf_1324317286060043510.plus.aac.p.m4a')\n",
      "('TRACKNAME (phonk version)', 'BrynGardiner', 'TRACKNAME (phonk version) - Single', 'https://audio-ssl.itunes.apple.com/itunes-assets/AudioPreview122/v4/44/14/9c/44149cf8-22bf-7dfd-c9a6-a8df49ee839f/mzaf_13768867385022402531.plus.aac.p.m4a')\n",
      "('Track Name', 'Carpool Jones', 'The Unending Trials and Tribulations of Carpool Jones', 'https://audio-ssl.itunes.apple.com/itunes-assets/AudioPreview113/v4/0c/9e/97/0c9e97b7-c3a1-4c59-be74-250d3cef4fde/mzaf_8775739489797961553.plus.aac.p.m4a')\n",
      "('Track Name', 'Monwolf', 'Track Name - Single', 'https://audio-ssl.itunes.apple.com/itunes-assets/AudioPreview115/v4/4d/31/9d/4d319d41-58d7-12a6-42d4-8cd371ff89fb/mzaf_16249133612639126907.plus.aac.p.m4a')\n",
      "('Track Name', 'Gmni', 'On the Count of Three', 'https://audio-ssl.itunes.apple.com/itunes-assets/AudioPreview116/v4/a6/2c/4c/a62c4cf0-9971-aaaa-c743-0aac738f09d6/mzaf_15631802281774658850.plus.aac.p.m4a')\n",
      "('Track Name', 'Zrmpa', 'G2 - EP', 'https://audio-ssl.itunes.apple.com/itunes-assets/AudioPreview126/v4/e9/8c/2b/e98c2bcf-ab25-52da-eb70-6e0c7222c009/mzaf_9297268814866625968.plus.aac.p.m4a')\n",
      "('Track Name', 'Zrmpa', 'Generation 2K18', 'https://audio-ssl.itunes.apple.com/itunes-assets/AudioPreview116/v4/64/db/e0/64dbe084-1910-f2a1-9229-10879ce49b2f/mzaf_11555947356832702376.plus.aac.p.m4a')\n",
      "('Track Name', 'DKmyan', 'Beep', 'https://audio-ssl.itunes.apple.com/itunes-assets/AudioPreview211/v4/a1/dd/d4/a1ddd470-d739-10f6-4112-189f02482a2a/mzaf_11557902666258163071.plus.aac.p.m4a')\n",
      "('Track Name', 'AI Liyan', 'Wonderful Piano', 'https://audio-ssl.itunes.apple.com/itunes-assets/AudioPreview221/v4/d4/78/5c/d4785c9b-b20b-b1c9-220d-9d655e401935/mzaf_8250358936876291212.plus.aac.p.m4a')\n",
      "('Track Name', 'CasualCreative', 'Talk to Me - EP', 'https://audio-ssl.itunes.apple.com/itunes-assets/AudioPreview221/v4/8a/8e/de/8a8edeb8-1c2f-ea6a-5488-0b284379756d/mzaf_15234174960981695614.plus.aac.p.m4a')\n",
      "('>track Name<', 'Kroso', 'Nightmares - EP', 'https://audio-ssl.itunes.apple.com/itunes-assets/Music1/v4/54/f4/d6/54f4d656-07c3-c812-9376-ea188babed00/mzaf_4966592820647988781.plus.aac.p.m4a')\n",
      "('Public String Trackname', 'ACSourse', 'Public String Trackname - Single', 'https://audio-ssl.itunes.apple.com/itunes-assets/AudioPreview112/v4/77/8e/a1/778ea1ff-db06-938f-e6a5-5a418e0c8ad4/mzaf_2990039120374111739.plus.aac.p.m4a')\n",
      "(\"Now That's What I Call a Trackname\", 'Sojourner', \"Now That's What I Call a Trackname - Single\", 'https://audio-ssl.itunes.apple.com/itunes-assets/AudioPreview116/v4/db/b0/e1/dbb0e1ab-19f1-fe42-6190-0c5e5b15dffd/mzaf_4115429319999163047.plus.aac.p.m4a')\n"
     ]
    }
   ],
   "source": [
    "import requests\n",
    "class Trac:\n",
    "    def __init__(self , Trac_name , artist_name , album_name , link):\n",
    "        self.trac_name = Trac_name\n",
    "        self.artist_name = artist_name\n",
    "        self.albom_name = album_name\n",
    "        self.link = link\n",
    "\n",
    "    def __str__(self):\n",
    "        return f\"Trac_name :{self.trac_name} ,artist_name:{self.artist_name} ,album_name :{self.album_name} , link:{self.link}\"\n",
    "    \n",
    "class Music:\n",
    "    def __init__(self, url) :\n",
    "        self.url = url\n",
    "\n",
    "\n",
    "    def requests_music(self):\n",
    "        response = requests.get(self.url)\n",
    "        if response.status_code == 200:\n",
    "            return response.json()\n",
    "        return[]\n",
    "    \n",
    "\n",
    "    @staticmethod\n",
    "    def read_data(music):\n",
    "        rack_name = music.get('trackName', 'No Track Name')\n",
    "        artist_name = music.get('artistName', 'Unknown Artist')\n",
    "        album_name = music.get('collectionName', 'Unknown Album')\n",
    "        track_url = music.get('previewUrl', 'No Link')\n",
    "        return (rack_name, artist_name, album_name, track_url)\n",
    "\n",
    "    def create_music(self):\n",
    "        data = self.requests_music()\n",
    "        if not data or data.get('resultCount', 0) == 0:\n",
    "            print(\"Not found\")\n",
    "            return\n",
    "        track_items = data.get(\"results\", [])\n",
    "        tracks = []\n",
    "        for track in track_items:\n",
    "                track_obj = self.read_data(track)\n",
    "                tracks.append(track_obj)\n",
    "        return tracks\n",
    "\n",
    "if __name__ == \"__main__\":\n",
    "    url = \"https://itunes.apple.com/search?term={track_name}&media=music\"\n",
    "    track_name = input(\"Enter the name of the song you want to search for: \")\n",
    "    obj1 = Music(url)\n",
    "    tracks = obj1.create_music()\n",
    "    \n",
    "    print(\"Search Results:\")\n",
    "    for track in tracks:\n",
    "        print(track)"
   ]
  },
  {
   "cell_type": "markdown",
   "id": "293056e3",
   "metadata": {},
   "source": [
    "<h2 style=\"color: blue:; background-color: purple\">Don't give up on your dreams :)</h2>"
   ]
  }
 ],
 "metadata": {
  "kernelspec": {
   "display_name": "Python 3",
   "language": "python",
   "name": "python3"
  },
  "language_info": {
   "codemirror_mode": {
    "name": "ipython",
    "version": 3
   },
   "file_extension": ".py",
   "mimetype": "text/x-python",
   "name": "python",
   "nbconvert_exporter": "python",
   "pygments_lexer": "ipython3",
   "version": "3.12.1"
  }
 },
 "nbformat": 4,
 "nbformat_minor": 5
}
