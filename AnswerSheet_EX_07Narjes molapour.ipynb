{
 "cells": [
  {
   "cell_type": "markdown",
   "id": "fb7a8054",
   "metadata": {},
   "source": [
    "<div style=\"color: white;padding-top:18px;text-align:center;background-color:#8B008B;border-radius:15px;border: 1px solid white;\"> \n",
    "    <h3>Exercise 7 (score:550)</h3>\n",
    "</div>"
   ]
  },
  {
   "cell_type": "markdown",
   "id": "bd5458df",
   "metadata": {},
   "source": [
    "<div style=\"color: black;font-family:Georgia;padding-top:18px;text-align:left;background-color:lightskyblue;border-radius:15px;border: 2px solid cornflowerblue;\">\n",
    "    <h4>Question 01 (Function)(100):</h4>\n",
    "    <p>\n",
    "        define two lists that one of them is strings and another is float, change values of both of them to int and create a list that is sum of them. use map function and lambda. \n",
    "    </p>\n",
    "</div>"
   ]
  },
  {
   "cell_type": "code",
   "execution_count": 55,
   "id": "99937553-2a26-4787-b365-d46f41243c5e",
   "metadata": {},
   "outputs": [
    {
     "name": "stdout",
     "output_type": "stream",
     "text": [
      "[20]\n"
     ]
    }
   ],
   "source": [
    "num1 = []\n",
    "num2 = []\n",
    "num = str(input(\"Enter your str\"))\n",
    "num3 = (float(input(\"Enter your number: \")))\n",
    "num1.append(num)\n",
    "num2.append(num3)\n",
    "num4 = []\n",
    "num5 = []\n",
    "for i in num1:\n",
    "    num4.append(int(i))\n",
    "for j in num2:\n",
    "    num5 . append(int(j))\n",
    "new_list = []\n",
    "sum_pull = list(map(lambda x ,y : x + y , num4 , num5))\n",
    "print(sum_pull)\n",
    "\n"
   ]
  },
  {
   "cell_type": "markdown",
   "id": "014bb5de",
   "metadata": {},
   "source": [
    "<div style=\"color: black;font-family:Georgia;padding-top:18px;text-align:left;background-color:lightskyblue;border-radius:15px;border: 2px solid cornflowerblue;\">\n",
    "    <h4>Question 02 (Function)(100):</h4>\n",
    "    <p>\n",
    "        Write a Python program where users input two numbers and choose an operation ( +, -, *, /,**).Use lambda functions for calculations. If division is chosen and the second number is zero, replace it with one, notify the user, and proceed. The program should handle invalid operations gracefully.  \n",
    "    </p>\n",
    "</div>"
   ]
  },
  {
   "cell_type": "code",
   "execution_count": 4,
   "id": "064621d4",
   "metadata": {},
   "outputs": [
    {
     "name": "stdout",
     "output_type": "stream",
     "text": [
      "39.0\n"
     ]
    }
   ],
   "source": [
    "def fun(x,y):\n",
    "    if anwser in \"sum\" :\n",
    "        sum_ = x + y\n",
    "        print(sum_)\n",
    "    elif anwser in \"mines\" :\n",
    "        mines_ = x - y \n",
    "        print(mines_)\n",
    "    elif anwser in \"moltiply\" : \n",
    "        mul = x * y \n",
    "        print(mul)   \n",
    "    elif anwser in \"tavan\" :\n",
    "        Ta = x ** y\n",
    "        print(Ta)\n",
    "    elif anwser in \"taghsim\":\n",
    "        if y == 0 :\n",
    "           y = 1\n",
    "           print(\"replased the number with 1 !!!\")\n",
    "        Tha = x // y\n",
    "        print(Tha)  \n",
    "\n",
    "def fun1(x,y):\n",
    "    if anwser in \"sum\":\n",
    "        sum_ = list(lambda x , y : x + y,x,y )\n",
    "        print(sum_) \n",
    "    elif anwser in \"mines\" :\n",
    "        mines = list(lambda x , y : x - y,x,y )\n",
    "        print(mines)\n",
    "    elif anwser in \"moltiply\":\n",
    "        mol = list(lambda x , y : x * y,x,y )\n",
    "        print(mol)\n",
    "    elif anwser in \"tavan\":\n",
    "       Ta = list(lambda x , y : x ** y,x,y )\n",
    "       print(Ta)\n",
    "    elif anwser in \"taghsim\":\n",
    "      if y ==0:\n",
    "        y = 1\n",
    "        Tah = list(lambda x ,y :x // y,x , y)\n",
    "        print(Tah)\n",
    "\n",
    "\n",
    "\n",
    "\n",
    "\n",
    "\n",
    "\n",
    "x =float(input(\"Entaer your number1 :\"))\n",
    "y = float(input(\"Entaer your number2 :\"))\n",
    "\n",
    "anwser = input(\" sum , mines , moltiply , tavan , taghsim \")\n",
    " \n",
    "\n",
    "\n",
    "\n",
    "result = fun( x , y )\n",
    "\n",
    "\n",
    "\n"
   ]
  },
  {
   "cell_type": "markdown",
   "id": "5c81e750",
   "metadata": {},
   "source": [
    "<div style=\"color: black;font-family:Georgia;padding-top:18px;text-align:left;background-color:lightskyblue;border-radius:15px;border: 2px solid cornflowerblue;\">\n",
    "    <h4>Question 03 (Function)(100):</h4>\n",
    "    <p>\n",
    "        You have a list of numbers, and you need to perform the following tasks using the filter function: </p> \n",
    "        <p>•\tWrite a function that filters out all the negative numbers from the list.</p>\n",
    "        <p>•\tWrite a function that filters out all the numbers that are less than the average of the list.</p>\n",
    "       <p> •\tWrite a function that filters out all the even numbers from the list.</p>\n",
    "    </p>\n",
    "</div>"
   ]
  },
  {
   "cell_type": "code",
   "execution_count": 8,
   "id": "50e67dcd",
   "metadata": {},
   "outputs": [
    {
     "name": "stdout",
     "output_type": "stream",
     "text": [
      "[-3, -1, -7]\n",
      "[-3, -1, 4, 3, -7]\n",
      "[6, 8, 4]\n"
     ]
    }
   ],
   "source": [
    "number =[23,-3,7,-1,6,8,4,3,-7]\n",
    "mines = list(filter(lambda x :x < 0 ,number))\n",
    "print(mines)\n",
    "#####\n",
    "g = list(filter(lambda x : x < sum(number)/len(number) ,number))\n",
    "print(g)\n",
    "#######\n",
    "zoj = list(filter(lambda x : x % 2 ==0,number))\n",
    "print(zoj)"
   ]
  },
  {
   "cell_type": "markdown",
   "id": "34326ff6",
   "metadata": {},
   "source": [
    "<div style=\"color: black;font-family:Georgia;padding-top:18px;text-align:left;background-color:lightskyblue;border-radius:15px;border: 2px solid cornflowerblue;\">\n",
    "    <h4>Question 04 (Function)(100):</h4>\n",
    "    <p>\n",
    "        Write a function that takes a list of email addresses and returns a new list containing only the valid email addresses. For simplicity, consider an email valid if it contains exactly one \"@11 symbol and at least one \".11 after the 11@\" symbol. Use the filter function to accomplish this. \n",
    "    </p>\n",
    "</div>"
   ]
  },
  {
   "cell_type": "code",
   "execution_count": 5,
   "id": "3384ea23",
   "metadata": {},
   "outputs": [
    {
     "name": "stdout",
     "output_type": "stream",
     "text": [
      "['ryey.@dgh', 'fhd']\n"
     ]
    }
   ],
   "source": [
    "def getting_email():\n",
    "    emails = []\n",
    "    number = int(input(\"Enter the number of email: \"))\n",
    "    for i in range(number):\n",
    "        email = input(\"Enter the email: \")\n",
    "        emails.append(email)\n",
    "    return emails\n",
    "\n",
    "def validation(email):\n",
    "    if email.count(\"@\") == 1:\n",
    "        first_part, second_part = email.split(\"@\")\n",
    "        if second_part.count(\".\") >= 1:\n",
    "            return email\n",
    "        \n",
    "emails = getting_email()\n",
    "valid_email = list(filter(validation, emails))\n",
    "print(valid_email)\n"
   ]
  },
  {
   "cell_type": "markdown",
   "id": "f31d7edb",
   "metadata": {},
   "source": [
    "<div style=\"color: black;font-family:Georgia;padding-top:18px;text-align:left;background-color:lightskyblue;border-radius:15px;border: 2px solid cornflowerblue;\">\n",
    "    <h4>Question 05 (Function)(100):</h4>\n",
    "    <p>\n",
    "        Write a function that takes a list of integers and checks if any of the numbers are greater than 100 but less than 200. The function should return True if at least one number in the list falls \n",
    "        within this range, otherwise False. \n",
    "    </p>\n",
    "</div>"
   ]
  },
  {
   "cell_type": "code",
   "execution_count": 129,
   "id": "6fb8490b",
   "metadata": {},
   "outputs": [
    {
     "name": "stdout",
     "output_type": "stream",
     "text": [
      "[True, False, False, True, True]\n"
     ]
    }
   ],
   "source": [
    "\n",
    "\n",
    "\n",
    "\n",
    "\n",
    "l1 = []\n",
    "n = 5\n",
    "for i in range(n):\n",
    "    num1 = input(\"Enter your number: \")\n",
    "    l1.append(num1)\n",
    "resylt = list(map(lambda x :  \"100\" <x< \"200\" , l1))\n",
    "print(any(resylt))\n",
    "\n",
    "\n",
    "\n"
   ]
  },
  {
   "cell_type": "markdown",
   "id": "5a2189dd",
   "metadata": {},
   "source": [
    "<div style=\"color: black;font-family:Georgia;padding-top:18px;text-align:left;background-color:lightskyblue;border-radius:15px;border: 2px solid cornflowerblue;\">\n",
    "    <h4>Question 06 (Function)(50):</h4>\n",
    "    <p>\n",
    "        Define a function that takes a sentence as input and returns the number of words in the sentence. \n",
    "    </p>\n",
    "</div>"
   ]
  },
  {
   "cell_type": "code",
   "execution_count": 140,
   "id": "e7a1fa52",
   "metadata": {},
   "outputs": [
    {
     "name": "stdout",
     "output_type": "stream",
     "text": [
      "['gjkh', 'hgjj', 'hhvj']\n",
      "3\n"
     ]
    }
   ],
   "source": [
    "def fun(W):\n",
    "    count = 0\n",
    "    for i in W:\n",
    "         count += 1\n",
    "    return count\n",
    "\n",
    "word = input(\"write your about your self :\")\n",
    "word = word.split()\n",
    "print(word)\n",
    "re = fun(word)\n",
    "print(re)\n",
    "\n",
    "\n",
    "\n",
    "\n",
    "\n",
    "\n"
   ]
  },
  {
   "cell_type": "markdown",
   "id": "293056e3",
   "metadata": {},
   "source": [
    "<h2 style=\"color: blue:; background-color: purple\">Good luck</h2>"
   ]
  }
 ],
 "metadata": {
  "kernelspec": {
   "display_name": "Python 3 (ipykernel)",
   "language": "python",
   "name": "python3"
  },
  "language_info": {
   "codemirror_mode": {
    "name": "ipython",
    "version": 3
   },
   "file_extension": ".py",
   "mimetype": "text/x-python",
   "name": "python",
   "nbconvert_exporter": "python",
   "pygments_lexer": "ipython3",
   "version": "3.12.1"
  }
 },
 "nbformat": 4,
 "nbformat_minor": 5
}
