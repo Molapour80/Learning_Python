{
 "cells": [
  {
   "cell_type": "markdown",
   "id": "fb7a8054",
   "metadata": {},
   "source": [
    "<div style=\"color: white;padding-top:18px;text-align:center;background-color:#8B008B;border-radius:15px;border: 1px solid white;\"> \n",
    "    <h3>Exercise 21 (score:150 + 50)</h3>\n",
    "</div>"
   ]
  },
  {
   "cell_type": "markdown",
   "id": "bd5458df",
   "metadata": {},
   "source": [
    "<div style=\"color: black;font-family:Georgia;padding-top:18px;text-align:left;background-color:lightskyblue;border-radius:15px;border: 2px solid cornflowerblue;\">\n",
    "    <h4>Question 01 (150):</h4>\n",
    "    <p>\n",
    "        Create a class called MyString thatinherits from the built-in str class in Python. Yourtask is to enhance\n",
    "the functionality ofthe str class by performing the following:\n",
    "        </p> \n",
    "<li>1.Override the lower() method: Modify this method so thatit converts the string to lowercase and\n",
    "appends an exclamation mark (!) atthe end.</li>\n",
    "<li>2.Add a count_words() method: Implement a new method count_words()thatreturns the number of\n",
    "words in the string. Words are separated by spaces.</li> \n",
    "<li>3.Override the replace() method: Modify the replace() method so that when replacing a word,the string is also converted to uppercase before performing the replacement.</li>\n",
    "<li>4.Override the __add__() method: Modify the string concatenation (+) behaviorto automatically insert a space between two MyString objects when they are added together.\n",
    "</li>\n",
    "<li>5.Override the __mul__() method: Modify the string multiplication (*) behavior so that when a\n",
    "MyString objectis multiplied by an integer, itrepeats the string with a dash (-) separating each repetition.</li>\n",
    "    \n",
    "</div>"
   ]
  },
  {
   "cell_type": "markdown",
   "id": "9fc3badf",
   "metadata": {},
   "source": [
    "<li>https://github.com/Molapour80/Learning_Python"
   ]
  },
  {
   "cell_type": "code",
   "execution_count": 7,
   "id": "99937553-2a26-4787-b365-d46f41243c5e",
   "metadata": {},
   "outputs": [],
   "source": [
    "\n",
    "class MyString(str):\n",
    "  \n",
    "    ##1.Override the lower() method and \"!\"\n",
    "    def lower(self):\n",
    "        return super().lower() + \"!\"\n",
    "    \n",
    "    ##2.ADD a count_words(self)\n",
    "    def count_words(self):\n",
    "        return len(self.split())\n",
    "    \n",
    "    ##3.Override the replace() method\n",
    "    def replace(self, old, new, count=-1):\n",
    "        return super().replace(old.upper(), new.upper(), count)\n",
    "    \n",
    "    ##4.Override the __add__() method\n",
    "    def  __add__(self, other):\n",
    "        if isinstance(other, MyString):\n",
    "            return MyString(f\"{self} {other}\")\n",
    "        return NotImplemented\n",
    "\n",
    "    ##5.Override the __mul__() method\n",
    "    def __mul__(self,n : int) -> 'MyString':\n",
    "        \"\"\"\n",
    "        Repeats the string with a dash (-) separating each repetition.\n",
    "\n",
    "        Args:\n",
    "                n (int): The number of times to repeat the string.\n",
    "\n",
    "        Returns:\n",
    "                MyString: The repeated string with a dash separator.\n",
    "\n",
    "        Raises:\n",
    "            NotImplemented.\n",
    "        \"\"\"\n",
    "        if isinstance(n, int):\n",
    "            return MyString(('-'.join([self] * n)))\n",
    "        return NotImplemented\n",
    "        "
   ]
  },
  {
   "cell_type": "code",
   "execution_count": 8,
   "id": "2099bc06",
   "metadata": {},
   "outputs": [
    {
     "name": "stdout",
     "output_type": "stream",
     "text": [
      " i was born in bnd . happy briaday.!\n",
      "8\n",
      " I was born in BND . Happy Briaday.- I was born in BND . Happy Briaday.- I was born in BND . Happy Briaday.\n",
      " I was born in BND . Happy Briaday. Narjes:)))\n",
      " I was born in BND . Iappy Briaday.\n"
     ]
    }
   ],
   "source": [
    "#((((((((::::::::::::::::###Example###:::::)))))))))))))))))))))))))))\n",
    "\n",
    "d1 =MyString(\" I was born in BND . Happy Briaday.\")\n",
    "print(d1.lower())\n",
    "print(d1.count_words())\n",
    "print(d1*3)\n",
    "print(d1 + MyString(\"Narjes:)))\"))\n",
    "print(d1.replace(\"h\",\"i\"))"
   ]
  },
  {
   "cell_type": "markdown",
   "id": "293056e3",
   "metadata": {},
   "source": [
    "<h2 style=\"color: blue:; background-color: purple\">Don't give up on your dreams :)</h2>"
   ]
  }
 ],
 "metadata": {
  "kernelspec": {
   "display_name": "Python 3",
   "language": "python",
   "name": "python3"
  },
  "language_info": {
   "codemirror_mode": {
    "name": "ipython",
    "version": 3
   },
   "file_extension": ".py",
   "mimetype": "text/x-python",
   "name": "python",
   "nbconvert_exporter": "python",
   "pygments_lexer": "ipython3",
   "version": "3.12.1"
  }
 },
 "nbformat": 4,
 "nbformat_minor": 5
}
