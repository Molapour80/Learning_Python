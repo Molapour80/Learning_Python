{
 "cells": [
  {
   "cell_type": "markdown",
   "id": "fb7a8054",
   "metadata": {},
   "source": [
    "<div style=\"color: white;padding-top:18px;text-align:center;background-color:#8B008B;border-radius:15px;border: 1px solid white;\"> \n",
    "    <h3>Exercise 5 (score:100)</h3>\n",
    "</div>"
   ]
  },
  {
   "cell_type": "markdown",
   "id": "bd5458df",
   "metadata": {},
   "source": [
    "<div style=\"color: black;font-family:Georgia;padding-top:18px;text-align:left;background-color:lightskyblue;border-radius:15px;border: 2px solid cornflowerblue;\">\n",
    "    <h4>Question 01 (List)(100):</h4>\n",
    "    <p>\n",
    "    Create a Python program that first prompts the user to enter 10 numbers, which are then stored in a list. Subsequently, request the user to input a new number. If this new number is present in the list, remove all occurrences of it. if it1s not found, insert the number twice at the beginning of the list. Finally, display the modified list to the user.\n",
    "    </p>\n",
    "</div>"
   ]
  },
  {
   "cell_type": "code",
   "execution_count": 3,
   "id": "99937553-2a26-4787-b365-d46f41243c5e",
   "metadata": {},
   "outputs": [
    {
     "name": "stdout",
     "output_type": "stream",
     "text": [
      "[2]\n",
      "[2, 1]\n",
      "[2, 1, 3]\n",
      "[2, 1, 3, 4]\n",
      "[2, 1, 3, 4, 56]\n",
      "[2, 1, 3, 4, 56, 7]\n",
      "[2, 1, 3, 4, 56, 7, 8]\n",
      "[2, 1, 3, 4, 56, 7, 8, 9]\n",
      "[2, 1, 3, 4, 56, 7, 8, 9, 6]\n",
      "[2, 1, 3, 4, 56, 7, 8, 9, 6, 5]\n",
      "[2, 1, 3, 4, 56, 7, 8, 9, 6]\n"
     ]
    }
   ],
   "source": [
    "num = []\n",
    "for n in range (10) :\n",
    "     num1 = int(input(\"Enter yuor numbers : \"))\n",
    "     num.append(num1)\n",
    "     print(num)    \n",
    "new_number =  int(input(\"Enter your  new number :\"))\n",
    "if new_number in num :\n",
    "    num.remove(new_number)\n",
    "else:\n",
    "   num.insert(0,[new_number,new_number])\n",
    "print(num) "
   ]
  },
  {
   "cell_type": "markdown",
   "id": "1366c3f5",
   "metadata": {},
   "source": [
    "<div style=\"color: white;padding-top:18px;text-align:center;background-color:#8B008B;border-radius:15px;border: 1px solid white;\"> \n",
    "    <h3>Exercise 6 (score:500)</h3>\n",
    "</div>"
   ]
  },
  {
   "cell_type": "markdown",
   "id": "42189622",
   "metadata": {},
   "source": [
    "<div style=\"color: black;font-family:Georgia;padding-top:18px;text-align:left;background-color:lightskyblue;border-radius:15px;border: 2px solid cornflowerblue;\">\n",
    "    <h4>Question 02 (MiniProject)(500):</h4>\n",
    "    <p>\n",
    "        Create a Python program that allows a user to manage tasks, track the time spent on them, and mark them as done or undone.\n",
    "    </p>\n",
    "    <p>\n",
    "        A task has a name, a status (True, False), and a duration (in hours).\n",
    "        The data will be stored across three lists: one for task names, one for task statuses, and one for task durations.\n",
    "    </p>\n",
    "    <p>\n",
    "        Add Task:\n",
    "    </p>\n",
    "    <p>    •\tAdd a new task to the list .</p>\n",
    "    <p>    •\tInitially, the status is False, and the duration is set to None .</p>\n",
    "    <p>  •\tTask names are unique.</p>\n",
    "    </p>\n",
    "    <p>    Diplay all Tasks</p>\n",
    "    <p>    •\tDisplay all data by details(task , status , duration)\n",
    "        Remove Task</p>\n",
    "    <p>    •\tRemove a Task from the list based on its name\n",
    "        Edit Task</p>\n",
    "    <p>    •\tEdit the name of an existing task\n",
    "        Search Task</p>\n",
    "    <p>    •\tASearch for a task by name and display its details\n",
    "        Mark Task as Done</p>\n",
    "     <p>   •\tMark a task as done and record the time duration it took to complete for time you have to get start and end time then calculate their difference\n",
    "        Display Details</p>\n",
    "    <p>    •\tShow details of all tasks . including the number of tasks . hours worked , and the number of completed tasks , as well as the number og umcomoleted tasks.</p>\n",
    "     <p>   Help</p>\n",
    "    <p>    •\tDisplay a help message showing information on how to use each command</p>\n",
    "\n",
    "    Point: The program should repeat at most two hundred times unless the user writes exit.\n",
    "</div>"
   ]
  },
  {
   "cell_type": "code",
   "execution_count": 1,
   "id": "b53d3d58",
   "metadata": {},
   "outputs": [],
   "source": [
    "# We suggest that you use the ToDoList.py file.\n"
   ]
  },
  {
   "cell_type": "markdown",
   "id": "293056e3",
   "metadata": {},
   "source": [
    "<h2 style=\"color: blue:; background-color: purple\">Good luck</h2>"
   ]
  }
 ],
 "metadata": {
  "kernelspec": {
   "display_name": "Python 3 (ipykernel)",
   "language": "python",
   "name": "python3"
  },
  "language_info": {
   "codemirror_mode": {
    "name": "ipython",
    "version": 3
   },
   "file_extension": ".py",
   "mimetype": "text/x-python",
   "name": "python",
   "nbconvert_exporter": "python",
   "pygments_lexer": "ipython3",
   "version": "3.12.1"
  }
 },
 "nbformat": 4,
 "nbformat_minor": 5
}
