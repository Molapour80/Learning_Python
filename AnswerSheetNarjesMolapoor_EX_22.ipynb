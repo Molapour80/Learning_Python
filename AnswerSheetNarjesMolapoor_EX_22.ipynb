{
 "cells": [
  {
   "cell_type": "markdown",
   "id": "fb7a8054",
   "metadata": {},
   "source": [
    "<div style=\"color: white;padding-top:18px;text-align:center;background-color:#8B008B;border-radius:15px;border: 1px solid white;\"> \n",
    "    <h3>Exercise 22 (score:250 + 50)</h3>\n",
    "</div>"
   ]
  },
  {
   "cell_type": "markdown",
   "id": "c7cbdb79",
   "metadata": {},
   "source": [
    "<p>(https://github.com/Molapour80/Learning_Python)</p>"
   ]
  },
  {
   "cell_type": "markdown",
   "id": "1f40b003",
   "metadata": {},
   "source": [
    "<p></p>"
   ]
  },
  {
   "cell_type": "markdown",
   "id": "bd5458df",
   "metadata": {},
   "source": [
    "<div style=\"color: black;font-family:Georgia;padding-top:18px;text-align:left;background-color:lightskyblue;border-radius:15px;border: 2px solid cornflowerblue;\">\n",
    "    <h4>Question 01 (250):</h4>\n",
    "    <p>Create a digital store that manages two types of products: Phone and Laptop. Each product type has shared attributes, including an ID, name, price, and brand. Additionally, Laptop has specific attributes for memory and processor. In this project, you will define three classes: Phone, Laptop, and Store.</p> \n",
    "<p>Class Phone</p>\n",
    "<li>Attributes:</li>\n",
    "<li>id (str): The unique identifier of the product.</li>\n",
    "<li>name (str): The name of the product.</li>\n",
    "<li>price (float): The price of the product.</li>\n",
    "<li>brand (str): The brand of the product.</li> \n",
    "<p>Methods:</p>\n",
    "<li>display(): Display the product information.</li>\n",
    "\n",
    "<p>Class Laptop</p>\n",
    "<li>Attributes:</li>\n",
    "<li>id (str): The unique identifier of the product.</li>\n",
    "<li>name (str): The name of the product.</li>\n",
    "<li>price (float): The price of the product.</li>\n",
    "<li>brand (str): The brand of the product.</li> \n",
    "<li>memory (str): The memory of the laptop.</li>\n",
    "<li>processor (str): The processor type of the laptop</li>\n",
    "<p>Methods:</p>\n",
    "<li>display(): Display the product information.</li>\n",
    "\n",
    "<p>Class Store</p>\n",
    "<li>Attributes:</li>\n",
    "<li>phones: A collection to store phones.</li>\n",
    "<li>laptops: A collection to store laptops.</li> \n",
    "<p>Methods:</p>\n",
    "<li>add(): Add phone or laptop the phones collection.</li>\n",
    "<li>emove(id): Remove phone or laptop collection using the ID</li>\n",
    "<li>display(type): Display all phones or all laptops</li>\n",
    "</div>"
   ]
  },
  {
   "cell_type": "code",
   "execution_count": 2,
   "id": "99937553-2a26-4787-b365-d46f41243c5e",
   "metadata": {},
   "outputs": [],
   "source": [
    "class Phone:\n",
    "    def __init__(self, id :str, name :str, price :float, brand:str):\n",
    "        self.id = id          # Unique identifier of the product\n",
    "        self.name = name      # Name of the product\n",
    "        self.price = price    # Price of the product\n",
    "        self.brand = brand    # Brand of the product\n",
    "\n",
    "    def display(self):\n",
    "        \"\"\"Display the product information.\"\"\"\n",
    "        return (f\"Phone ID: {self.id}, Name: {self.name}, \"\n",
    "                f\"Price: {self.price}, Brand: {self.brand}\")\n"
   ]
  },
  {
   "cell_type": "code",
   "execution_count": 3,
   "id": "14b2c333",
   "metadata": {},
   "outputs": [],
   "source": [
    "class Laptop:\n",
    "    def __init__(self, id : str, name :str, price :float, brand :str, memory :str, processor :str):\n",
    "        self.id = id              # Unique identifier of the product\n",
    "        self.name = name          # Name of the product\n",
    "        self.price = price        # Price of the product\n",
    "        self.brand = brand        # Brand of the product\n",
    "        self.memory = memory      # Memory of the laptop\n",
    "        self.processor = processor # Processor type of the laptop\n",
    "\n",
    "    def display(self):\n",
    "        \"\"\"Display the product information.\"\"\"\n",
    "        return (f\"Laptop ID: {self.id}, Name: {self.name}, \"\n",
    "                f\"Price: {self.price}, Brand: {self.brand}, \"\n",
    "                f\"Memory: {self.memory}, Processor: {self.processor}\")\n"
   ]
  },
  {
   "cell_type": "code",
   "execution_count": 4,
   "id": "a1ea7c8d",
   "metadata": {},
   "outputs": [],
   "source": [
    "class Store:\n",
    "    def __init__(self):\n",
    "        self.phones = []          \n",
    "        self.laptops = []         \n",
    "\n",
    "    def add(self, product):\n",
    "        \"\"\"Add phone or laptop to the appropriate collection.\"\"\"\n",
    "        if isinstance(product, Phone):\n",
    "            self.phones.append(product)\n",
    "        elif isinstance(product, Laptop):\n",
    "            self.laptops.append(product)\n",
    "\n",
    "    def remove(self, id):\n",
    "        \"\"\"Remove phone or laptop from the collection using the ID.\"\"\"\n",
    "        updated_phones = []\n",
    "        for phone in self.phones:\n",
    "            if phone.id != id:\n",
    "                updated_phones.append(phone)\n",
    "        self.phones = updated_phones\n",
    "\n",
    "        updated_laptops = []\n",
    "        for laptop in self.laptops:\n",
    "            if laptop.id != id:\n",
    "                updated_laptops.append(laptop)\n",
    "        self.laptops = updated_laptops\n",
    "\n",
    "    def display(self, product_type):\n",
    "        \"\"\"Display all phones or all laptops.\"\"\"\n",
    "        if product_type == 'phone':\n",
    "            if not self.phones:  \n",
    "                return f\"No phones available in the store.\"\n",
    "            \n",
    "            phone_list = []\n",
    "            for phone in self.phones:\n",
    "                phone_list.append(phone.display())\n",
    "            return phone_list\n",
    "        \n",
    "        elif product_type == 'laptop':\n",
    "            if not self.laptops:  \n",
    "                return f\"No laptops available in the store.\"\n",
    "            \n",
    "            laptop_list = []\n",
    "            for laptop in self.laptops:\n",
    "                laptop_list.append(laptop.display())\n",
    "            return laptop_list\n",
    "        \n",
    "        else:\n",
    "            return f\"Invalid product type. Please use 'phone' or 'laptop'.\""
   ]
  },
  {
   "cell_type": "code",
   "execution_count": 16,
   "id": "3647d524",
   "metadata": {},
   "outputs": [
    {
     "name": "stdout",
     "output_type": "stream",
     "text": [
      "Phones in store:\n",
      "Phone ID: P001, Name: iPhone 13, Price: 999.99, Brand: Apple\n",
      "Phone ID: P002, Name: Galaxy S21, Price: 7995.959, Brand: Samsung\n",
      "Phone ID: P002, Name: Galaxy S21, Price: 7995.959, Brand: Samsung\n",
      "\n",
      "Laptops in store:\n",
      "Laptop ID: L001, Name: MacBook Pro, Price: 19254.99, Brand: Apple, Memory: 16GB, Processor: M1\n",
      "Laptop ID: L002, Name: Dell XPS 13, Price: 1299.99, Brand: Dell, Memory: 8GB, Processor: i7\n",
      "Laptop ID: L002, Name: Dell XPS 13, Price: 1299.99, Brand: Dell, Memory: 8GB, Processor: i7\n",
      "\n",
      "Phones after removal:\n",
      "Phone ID: P002, Name: Galaxy S21, Price: 7995.959, Brand: Samsung\n"
     ]
    }
   ],
   "source": [
    "if __name__ == \"__main__\":\n",
    "    store = Store()\n",
    "\n",
    "    ##Adding phones\n",
    "    phone1 = Phone(\"P001\", \"iPhone 13\", 999.99, \"Apple\")\n",
    "    phone2 = Phone(\"P002\", \"Galaxy S21\", 7995.959, \"Samsung\")\n",
    "    store.add(phone1)\n",
    "    store.add(phone2)\n",
    "\n",
    "    ## Adding laptops\n",
    "    laptop1 = Laptop(\"L001\", \"MacBook Pro\", 19254.99, \"Apple\", \"16GB\", \"M1\")\n",
    "    laptop2 = Laptop(\"L002\", \"Dell XPS 13\", 1299.99, \"Dell\", \"8GB\", \"i7\")\n",
    "    store.add(laptop1)\n",
    "    store.add(laptop2)\n",
    "\n",
    "    ## Displaying products\n",
    "    print(\"Phones in store:\")\n",
    "    for phone_info in store.display('phone'):\n",
    "        print(phone_info)\n",
    "    #just for fun:))\n",
    "    print(phone2.display())\n",
    "    \n",
    "\n",
    "    print(\"\\nLaptops in store:\")\n",
    "    for laptop_info in store.display('laptop'):\n",
    "        print(laptop_info)\n",
    "    #just for fun:))\n",
    "    print(laptop2.display())\n",
    "    # Removing a product\n",
    "    store.remove(\"P001\")\n",
    "    print(\"\\nPhones after removal:\")\n",
    "    for phone_info in store.display('phone'):\n",
    "        print(phone_info)"
   ]
  },
  {
   "cell_type": "markdown",
   "id": "293056e3",
   "metadata": {},
   "source": [
    "<h2 style=\"color: blue:; background-color: purple\">Don't give up on your dreams :)</h2>"
   ]
  }
 ],
 "metadata": {
  "kernelspec": {
   "display_name": "Python 3",
   "language": "python",
   "name": "python3"
  },
  "language_info": {
   "codemirror_mode": {
    "name": "ipython",
    "version": 3
   },
   "file_extension": ".py",
   "mimetype": "text/x-python",
   "name": "python",
   "nbconvert_exporter": "python",
   "pygments_lexer": "ipython3",
   "version": "3.12.1"
  }
 },
 "nbformat": 4,
 "nbformat_minor": 5
}
