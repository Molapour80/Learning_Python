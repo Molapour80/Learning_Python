{
 "cells": [
  {
   "cell_type": "markdown",
   "id": "fb7a8054",
   "metadata": {},
   "source": [
    "<div style=\"color: white;padding-top:18px;text-align:center;background-color:#8B008B;border-radius:15px;border: 1px solid white;\"> \n",
    "    <h3>Exercise 19 (score:120 + 50)</h3>\n",
    "</div>"
   ]
  },
  {
   "cell_type": "markdown",
   "id": "7b53c0d8",
   "metadata": {},
   "source": [
    "<h2>https://github.com/Molapour80/Learning_Python/blob/main/AnswerSheet_EX_Narjesmolapour19%2620.zip</h2>"
   ]
  },
  {
   "cell_type": "markdown",
   "id": "bd5458df",
   "metadata": {},
   "source": [
    "<div style=\"color: black;font-family:Georgia;padding-top:18px;text-align:left;background-color:lightskyblue;border-radius:15px;border: 2px solid cornflowerblue;\">\n",
    "    <h4>Question 01 (Encapsulation)(150):</h4>\n",
    "    <p>Design a class called BankAccount with three attributes:</p> \n",
    "    <p>accountNumber (public), balance (protected), password (private).</p>\n",
    "<li>In the BankAccount class, write methods to get and set the balance and password attributes, ensuring proper access control by using getters and setters where necessary.</li>\n",
    "<li>Create a subclass called SavingsAccount, which should try to access the balance and password attributes directly. After encountering access issues, modify the subclass to use the getter and setter methods to access these attributes.</li>\n",
    "<li>Finally, create an object of the BankAccount class and try to access and print the accountNumber, balance, and password attributes directly. Use the getter and setter methods when necessary for accessing the balance and password or changing them.</li> \n",
    "<p>Write comment for:</p>\n",
    "\n",
    "<ul>What happens when accessing each attribute directly.</ul>\n",
    "<ul>Why it is necessary to use getters and setters for certain attributes.</ul>\n",
    "    \n",
    "</div>"
   ]
  },
  {
   "cell_type": "code",
   "execution_count": 115,
   "id": "99937553-2a26-4787-b365-d46f41243c5e",
   "metadata": {},
   "outputs": [],
   "source": [
    "class BankAccount:\n",
    "    def __init__(self, accountNumber, balance, password) :\n",
    "        self.accountNumber = accountNumber #public\n",
    "        self._balance = balance            #protected\n",
    "        self.__password = password         #private\n",
    "\n",
    "    @property\n",
    "    def balance(self):\n",
    "        return self._balance\n",
    "    \n",
    "    def password(self):\n",
    "        return self.__password\n",
    "    \n",
    "    @balance.setter\n",
    "    def balance(self,new_balance):\n",
    "        if new_balance < 0:\n",
    "            raise ValueError(\"new_balance biger than 0\")\n",
    "        self._balance = new_balance\n",
    "\n",
    "    def set_password(self, password):\n",
    "        if len(password) == 6:\n",
    "            self.__password = password\n",
    "        else:\n",
    "            print(\"password shoud be 6 carecter\")\n",
    "    \n",
    "    \n",
    "    \n",
    "        \n",
    "\n",
    "  \n",
    "\n",
    "\n"
   ]
  },
  {
   "cell_type": "code",
   "execution_count": 122,
   "id": "cc92f4bb",
   "metadata": {},
   "outputs": [],
   "source": [
    "class SavingsAccount(BankAccount):\n",
    "    def __init__(self, accountNumber,balance, password):\n",
    "        super().__init__( accountNumber,balance, password)\n",
    "\n",
    "    def show_balance(self):\n",
    "        print(self._balance)\n",
    "    \n",
    "    def show_pass(self):\n",
    "        print(self.__password)\n"
   ]
  },
  {
   "cell_type": "code",
   "execution_count": 123,
   "id": "15619866",
   "metadata": {},
   "outputs": [
    {
     "name": "stdout",
     "output_type": "stream",
     "text": [
      "Updated Balance: 1500\n",
      "Updated : <bound method BankAccount.password of <__main__.BankAccount object at 0x00000271A0906510>>\n",
      "500\n",
      "<bound method BankAccount.password of <__main__.SavingsAccount object at 0x00000271A0AD6060>>\n"
     ]
    }
   ],
   "source": [
    "b1 = BankAccount(\"5679\",636,\"hello\")\n",
    "b1.accountNumber                                 # Public\n",
    "b1.balance                                       # Protected (accessible, but not recommended)\n",
    "#print(f\"Password: {b1.__password}\")          # Will raise an error AttributeError\n",
    "\n",
    "# Using getters and setters\n",
    "b1.balance = 1500\n",
    "print(f\"Updated Balance: {b1.balance}\")\n",
    "\n",
    "# Using getters and setters\n",
    "b1.set_password = \"123456\"\n",
    "print(f\"Updated : {b1.password}\")\n",
    "\n",
    "# Testing SavingsAccount\n",
    "Savings_Account = SavingsAccount(\"654321\", 500, \"414124\")\n",
    "Savings_Account.show_balance()\n",
    "\n",
    "\n",
    "Savings_Account.set_password = 143242\n",
    "print(Savings_Account.password)\n"
   ]
  },
  {
   "cell_type": "markdown",
   "id": "d05c947f",
   "metadata": {},
   "source": [
    "<div style=\"color: white;padding-top:18px;text-align:center;background-color:#8B008B;border-radius:15px;border: 1px solid white;\"> \n",
    "    <h3>Exercise 20 (score:250 + 50)</h3>\n",
    "</div>"
   ]
  },
  {
   "cell_type": "markdown",
   "id": "34326ff6",
   "metadata": {},
   "source": [
    "<div style=\"color: black;font-family:Georgia;padding-top:18px;text-align:left;background-color:lightskyblue;border-radius:15px;border: 2px solid cornflowerblue;\">\n",
    "    <h4>Question 01(OOP) (Project)(180):</h4>\n",
    "    <p>Create a Python project that involves a class named BankAccount with the following attributes and methods:</p>\n",
    "    <p> Attributes:</p>\n",
    "    <li>account_holder: The name of the account holder.</li>\n",
    "    <li>balance: The current balance of the account.</li>\n",
    "    <li>account_number: A unique numeric identifier for the account.</li>\n",
    "<p> Methods:<p>\n",
    "<li>deposit(amount): Adds the specified amount to the account balance.</li>\n",
    "<li> withdraw(amount): Deducts the specified amount from the balance. If the amount exceeds the balance, it should raise a custom exception InsufficientFundsError.<li>\n",
    "<li>check_balance(): Prints the current balance.</li>\n",
    "<li>transfer_to(another_account, amount): Transfers a specified amount to another account, reducing the balance from the current account and adding it to another_account. If the balance is insufficient, raise the InsufficientFundsError.</li>\n",
    "<p>Additionally, implement a custom exception class named InsufficientFundsError that is raised whenever a withdrawal or transfer operation exceeds the available balance.</p>\n",
    "</div>"
   ]
  },
  {
   "cell_type": "code",
   "execution_count": 29,
   "id": "eb359e60",
   "metadata": {},
   "outputs": [],
   "source": [
    "class InsufficientFundsError(Exception):\n",
    "    def __init__(self, massage = \"Insufficient inventory\") :\n",
    "        self.massage = massage\n",
    "        super().__init__(self.massage)"
   ]
  },
  {
   "cell_type": "code",
   "execution_count": 64,
   "id": "8e03d1e3",
   "metadata": {},
   "outputs": [],
   "source": [
    "class BankAccount:\n",
    "    def __init__(self,account_holder, account_number ,balance = 0):\n",
    "        self.account_holder = account_holder\n",
    "        self.balance = balance\n",
    "        self.account_number = account_number\n",
    "\n",
    "    def deposit(self, amount):\n",
    "        if amount > 0 :\n",
    "           self.balance += amount\n",
    "           \n",
    "\n",
    "    \n",
    "    def withdraw(self, amount):\n",
    "        if amount > self.balance:\n",
    "            raise InsufficientFundsError (\"amount the biger than balance and balance not enof\")\n",
    "        self.balance -= amount\n",
    "\n",
    "    def chack_balance(self):\n",
    "        print(self.balance) \n",
    "    \n",
    "    def transfer_to(self, another_account, amount):\n",
    "        if amount < 0 or amount > self.balance:\n",
    "             raise IndentationError(\"Increase inventory\")\n",
    "        self.withdraw(amount)\n",
    "        another_account.deposit(amount)\n",
    "    \n",
    "    def __str__(self):\n",
    "        return  f\"account_holder:{self.account_holder} /n, acount_number:{self.account_number} /n, balance:{self.balance}\"\n",
    "    \n",
    "                \n",
    "\n",
    "\n",
    "    "
   ]
  },
  {
   "cell_type": "code",
   "execution_count": 65,
   "id": "564ffee2",
   "metadata": {},
   "outputs": [
    {
     "name": "stdout",
     "output_type": "stream",
     "text": [
      "634\n",
      "278\n",
      "78\n",
      "280\n"
     ]
    }
   ],
   "source": [
    "b1 = BankAccount(\"gjs\",\"72467\" , 234)\n",
    "b2 = BankAccount(\"hfjk\",\"35475\",80)\n",
    "b1.deposit(400)\n",
    "b1.chack_balance()\n",
    "b1.withdraw(356)\n",
    "b1.chack_balance()\n",
    "b1.transfer_to( b2, 200)\n",
    "b1.chack_balance()\n",
    "b2.chack_balance()\n"
   ]
  },
  {
   "cell_type": "markdown",
   "id": "293056e3",
   "metadata": {},
   "source": [
    "<h2 style=\"color: blue:; background-color: purple\">Don't give up on your dreams :)</h2>"
   ]
  }
 ],
 "metadata": {
  "kernelspec": {
   "display_name": "Python 3",
   "language": "python",
   "name": "python3"
  },
  "language_info": {
   "codemirror_mode": {
    "name": "ipython",
    "version": 3
   },
   "file_extension": ".py",
   "mimetype": "text/x-python",
   "name": "python",
   "nbconvert_exporter": "python",
   "pygments_lexer": "ipython3",
   "version": "3.12.1"
  }
 },
 "nbformat": 4,
 "nbformat_minor": 5
}
