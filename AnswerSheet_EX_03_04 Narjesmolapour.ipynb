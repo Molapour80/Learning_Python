{
 "cells": [
  {
   "cell_type": "markdown",
   "metadata": {},
   "source": [
    "<div style=\"color: white;padding-top:18px;text-align:center;background-color:#8B008B;border-radius:15px;border: 1px solid white;\"> \n",
    "    <h3>Exercise 3 (score:350)</h3>\n",
    "</div>"
   ]
  },
  {
   "cell_type": "markdown",
   "metadata": {},
   "source": [
    "<div style=\"color: black;font-family:Georgia;padding-top:18px;text-align:left;background-color:lightskyblue;border-radius:15px;border: 2px solid cornflowerblue;\"> \n",
    "    <h4>Question 01 (String)</h4>\n",
    "    <p>Get a string from user and check length of that, if length of string was even\n",
    "show first half of string otherwise print last half of string.\n",
    "</p>\n",
    "    \n",
    "</div>"
   ]
  },
  {
   "cell_type": "code",
   "execution_count": 39,
   "metadata": {},
   "outputs": [
    {
     "name": "stdout",
     "output_type": "stream",
     "text": [
      "ddg\n"
     ]
    }
   ],
   "source": [
    "# write code here:\n",
    "num1 = input(\"Enter your str: \")\n",
    "num = len(num1)\n",
    "num2 = num // 2\n",
    "if num % 2 == 0 :\n",
    "    print(num1[:num2])\n",
    "else:\n",
    "    print(num1[num2:])    "
   ]
  },
  {
   "cell_type": "markdown",
   "metadata": {},
   "source": [
    "<div style=\"color: black;font-family:Georgia;padding-top:18px;text-align:left;background-color:lightskyblue;border-radius:15px;border: 1px solid cornflowerblue;\"> \n",
    "    <h4>Question 02 (String)</h4>\n",
    "<p>\n",
    "Explain the results of following codes step by step, and if there are errors, explain the reson for the error and fix it.\n",
    "</p>\n",
    "\n",
    "<ul>\n",
    "    <li>\n",
    "        Divide the text into two halves. If length of string is odd, include the middle character in the first half.\n",
    "    </li>\n",
    "    <br>\n",
    "    <li>\n",
    "        In the first half of the text, replace all occurrences of the word \"Python\" with \"Java\".\n",
    "    </li>\n",
    "    <br>\n",
    "    <li>\n",
    "       In the second half of the text, replace all occurrences of the word \"Python\" with \"C++\" \n",
    "    </li>\n",
    "    <br>\n",
    "    <li>\n",
    "        Combine both halves back into a single text and print the modified text\n",
    "    </li>\n",
    "    <br>\n",
    "    <li>\n",
    "        How many times was the word \"Python\" replaced in the first half?\n",
    "    </li>\n",
    "    <br>\n",
    "    <li>\n",
    "        How many times was the word \"Python\" replaced in the second half?\n",
    "    </li>\n",
    "</ul>\n",
    "\n",
    "<br>\n",
    "<p>Here is the text:</p>\n",
    "\n",
    "<p>\n",
    "    Python is a widely-used programming language known for its simplicity. Python supports various\n",
    "    programming paradigms. Python's code readability makes it a favorite among developers. Python is\n",
    "    ideal for rapidly prototyping applications.\n",
    "</p>\n",
    "\n",
    "</div>"
   ]
  },
  {
   "cell_type": "code",
   "execution_count": 10,
   "metadata": {},
   "outputs": [
    {
     "name": "stdout",
     "output_type": "stream",
     "text": [
      " Python is a widely-used programming language known for its simplicity. Python supports variousprogramming paradigms.\n",
      "Python's code readability makes it a favorite among developers. Python is ideal for rapidly prototyping applications. \n",
      "P  Python is a widely-used programming language known for its simplicity. Python supports variousprogramming paradigms.Python's code readability makes it a favorite among developers. Python is ideal for rapidly prototyping applications. \n",
      "0\n",
      "0\n"
     ]
    }
   ],
   "source": [
    "# write code here:\n",
    "#\n",
    "text = \" Python is a widely-used programming language known for its simplicity. Python supports variousprogramming paradigms.Python's code readability makes it a favorite among developers. Python is ideal for rapidly prototyping applications. \"\n",
    "num1 = len(text)\n",
    "frist = text[:num1//2]\n",
    "second = text[num1//2:]\n",
    "print(text[:num1//2])\n",
    "print(text[num1//2:])\n",
    "if num1 != 0 :\n",
    "    print( text[num1//2], text)\n",
    "##\n",
    "frist = (frist.replace(\"Python\",\"Java\"))\n",
    "print(frist)\n",
    "\n",
    "###\n",
    "second = second.replace(\"Python\",\"C++\")\n",
    "second\n",
    "\n",
    "####\n",
    "print(frist +\" \"+ second)\n",
    "new_text = [ frist , second]\n",
    "new_text\n",
    "#####\n",
    "c_Python = frist.count(frist.replace(\"Python\",\"Java\")) ##answer is not true.\n",
    "v_python = frist.count(\"Java\")\n",
    "v_python\n",
    "c_Python\n",
    "######\n",
    "#s_s = frist.count(frist.replace(\"Python\",\"C++\"))## answer is not true.\n",
    "s_C = second.count(\"C++\")\n",
    "print(s_C)\n",
    "#print(s_s)\n",
    "\n",
    "\n",
    "\n",
    "\n",
    "\n",
    "    \n"
   ]
  },
  {
   "cell_type": "code",
   "execution_count": 50,
   "metadata": {},
   "outputs": [
    {
     "name": "stdout",
     "output_type": "stream",
     "text": [
      "-1+-1 = -2 \n",
      "-1+-1 = -2 \n",
      "Python's code readability makes it a favorite among developers. Python is ideal for rapidly prototyping applications.\n"
     ]
    }
   ],
   "source": [
    "####FIX\n",
    "text = \"Python is a widely-used programming language known for its simplicity. Python supports variousprogramming paradigms.Python's code readability makes it a favorite among developers. Python is ideal for rapidly prototyping applications.\"\n",
    "frist =text[len(text)//2:]\n",
    "second = text[:len(text)//2]\n",
    "ki = frist .replace(\"Python\",\"Java\")\n",
    "F=(frist.find(\"Java\"))\n",
    "d=(frist.rfind(\"Java\"))\n",
    "r =F+d\n",
    "print(\"{}+{} = {} \". format(F,d,r))\n",
    "fi = second .replace(\"Python\",\"C++\")\n",
    "s=(second.find(\"C++\"))\n",
    "a=(second.rfind(\"C++\"))\n",
    "q =s+a\n",
    "print(\"{}+{} = {} \". format(s,a,q))\n",
    "cou = (frist.count(\"Python\"))\n",
    "print(frist.replace(cou,))\n"
   ]
  },
  {
   "cell_type": "markdown",
   "metadata": {},
   "source": [
    "<div style=\"color: black;font-family:Georgia;padding-top:18px;text-align:left;background-color:lightskyblue;border-radius:15px;border: 1px solid cornflowerblue;\"> \n",
    "    <h4>Question 03 (String)</h4>\n",
    "<p>Write a program that prompts the user to enter a text. The program should then\n",
    "remove all the spaces from the entered text and display the result.</p>\n",
    "\n",
    "</div>"
   ]
  },
  {
   "cell_type": "code",
   "execution_count": 55,
   "metadata": {},
   "outputs": [
    {
     "data": {
      "text/plain": [
       "'helomynameirali.'"
      ]
     },
     "execution_count": 55,
     "metadata": {},
     "output_type": "execute_result"
    }
   ],
   "source": [
    "# write code here:\n",
    "text = input(\"Entar your text:\")\n",
    "new_text = text.replace(\" \" , \"\")\n",
    "new_text"
   ]
  },
  {
   "cell_type": "markdown",
   "metadata": {},
   "source": [
    "<div style=\"color: black;font-family:Georgia;padding-top:18px;text-align:left;background-color:lightskyblue;border-radius:15px;border: 1px solid cornflowerblue;\"> \n",
    "    <h4>Question 04 (String)</h4>\n",
    "<p>Write a program that prompts the user to enter two strings. if the second\n",
    "string is present in the first string, remove it, otherwise add the second\n",
    "string at the start and end of the first string. Display the new string in the\n",
    "output.</p>\n",
    "\n",
    "</div>"
   ]
  },
  {
   "cell_type": "code",
   "execution_count": 59,
   "metadata": {},
   "outputs": [
    {
     "name": "stdout",
     "output_type": "stream",
     "text": [
      "\n"
     ]
    }
   ],
   "source": [
    "# write code here : \n",
    "text1 = input(\"Enter your str:\")\n",
    "text2 = input(\"Enter your str:\")\n",
    "ntext2 = text2.rfind(text1)\n",
    "if text2 :\n",
    "    print(text2.replace(text2, \"\"))\n",
    "else: \n",
    "    print(text1 + text2)   \n"
   ]
  },
  {
   "cell_type": "markdown",
   "metadata": {},
   "source": [
    "<div style=\"color: black;font-family:Georgia;padding-top:18px;text-align:left;background-color:lightskyblue;border-radius:15px;border: 1px solid cornflowerbue;\"> \n",
    "    <h4>Question 05 (String)\n",
    "</h4>\n",
    "<p>Write a program that prompts the user to enter a password. The program\n",
    "should validate the password based on the following criteria:</p>\n",
    "\n",
    "<ul>\n",
    "    <li>The length of the password must be exactly 8 characters.</li>\n",
    "    <li>The first four characters of the password must be letters (alphabets).</li>\n",
    "    <li>The last four characters of the password must be digits (numbers).</li>\n",
    "    <li>If the password meets all the above criteria, the program should display \"Valid\".\n",
    "        Otherwise, it should display \"Invalid\".\n",
    "    </li>\n",
    "    <br>\n",
    "</ul>\n",
    "\n",
    "</div>"
   ]
  },
  {
   "cell_type": "code",
   "execution_count": 63,
   "metadata": {},
   "outputs": [
    {
     "name": "stdout",
     "output_type": "stream",
     "text": [
      "Is true jiop1234\n"
     ]
    }
   ],
   "source": [
    "# write code here : \n",
    "pasword = input(\"Entar toyr pasword\")\n",
    "lenpass = len(pasword)\n",
    "len1 = pasword[:lenpass//2]\n",
    "len2 = pasword[lenpass//2:]\n",
    "if lenpass == 8  and len1.isalpha() and len2.isdigit() :\n",
    "    print(\"Valid\")\n",
    "else:\n",
    "    print(\"Invalid\")\n",
    "\n"
   ]
  },
  {
   "cell_type": "markdown",
   "metadata": {},
   "source": [
    "<div style=\"color: white;padding-top:18px;text-align:center;background-color:#8B008B;border-radius:15px;border: 1px solid white;\"> \n",
    "    <h3>Exercise 4 (score:300)</h3>\n",
    "</div>"
   ]
  },
  {
   "cell_type": "markdown",
   "metadata": {},
   "source": [
    "<div style=\"color: black;font-family:Georgia;padding-top:18px;text-align:left;background-color:lightskyblue;border-radius:15px;border: 1px solid cornflowerblue;\"> \n",
    "    <h4>Question 01 (Loop)</h4>\n",
    "<p>Create a program that prompts the user to input a string. The program should\n",
    "then analyze the string to determine the number of alphabetic characters\n",
    "(letters) and the number of numeric characters (digits) contained within it.\n",
    "</p>\n",
    "\n",
    "</div>"
   ]
  },
  {
   "cell_type": "code",
   "execution_count": 90,
   "metadata": {},
   "outputs": [
    {
     "name": "stdout",
     "output_type": "stream",
     "text": [
      "3 2\n"
     ]
    }
   ],
   "source": [
    "# write code here :\n",
    "you = input(\"Enter your str:\")\n",
    "alpha = 0\n",
    "digit = 0\n",
    "for i in you : \n",
    "    if i.isalpha() :\n",
    "        alpha += 1\n",
    "    else:\n",
    "        digit+=1\n",
    "print(alpha , digit)\n"
   ]
  },
  {
   "cell_type": "markdown",
   "metadata": {},
   "source": [
    "<div style=\"color: black;font-family:Georgia;padding-top:18px;text-align:left;background-color:lightskyblue;border-radius:15px;border: 1px solid cornflowerblue;\"> \n",
    "    <h4>Question 02 (Loop)</h4>\n",
    "<p>Get five strings from the user using a loop and display each of them that has a\n",
    "length greater than 6.\n",
    "</p>\n",
    "\n",
    "</div>"
   ]
  },
  {
   "cell_type": "code",
   "execution_count": 91,
   "metadata": {},
   "outputs": [
    {
     "name": "stdout",
     "output_type": "stream",
     "text": [
      "asdfghh\n",
      "xdewsrtg\n"
     ]
    }
   ],
   "source": [
    "# write code here : \n",
    "for i in range(5):\n",
    "    str = input(\"Enter your str:\")\n",
    "    if len(str)>= 6 :\n",
    "        print(str)"
   ]
  },
  {
   "cell_type": "markdown",
   "metadata": {},
   "source": [
    "<div style=\"color: black;font-family:Georgia;padding-top:18px;text-align:left;background-color:lightskyblue;border-radius:15px;border: 1px solid cornflowerblue;\"> \n",
    "    <h4>Question 03 (Loop)</h4>\n",
    "<p>Write a program to analyze the scores of 10 students in a class. You need to\n",
    "collect the name and score (out of 20) for each student. Based on their\n",
    "scores, you need to assign them a level as follows: \n",
    "</p>\n",
    "\n",
    "<ul>\n",
    "    <li>A+ : If the score is between 17 and 20 (inclusive)</li>\n",
    "    <li>A : If the score is between 15 and less than 17</li>\n",
    "    <li>B : If the score is between 10 and less than 15</li>\n",
    "    <li>C : If the score is less than 10</li>\n",
    "</ul>\n",
    "\n",
    "<p>\n",
    "    Your program should display the following:\n",
    "</p>\n",
    "\n",
    "<ul>\n",
    "    <li>The name, score, and level of each student.</li>\n",
    "    <li>The name and score of the student with the highest score.</li>\n",
    "    <li>The name and score of the student with the lowest score.</li>\n",
    "    <li>The average score of the class.</li>\n",
    "    <li>\n",
    "        Make sure to validate the input to ensure that the score is a positive number and less than\n",
    "        or equal to 20.\n",
    "    </li>\n",
    "</ul>\n",
    "\n",
    "</div>"
   ]
  },
  {
   "cell_type": "code",
   "execution_count": 7,
   "metadata": {},
   "outputs": [
    {
     "name": "stdout",
     "output_type": "stream",
     "text": [
      "bgfv 12.0 B\n",
      "de 16.0 A\n",
      "vf 18.0 A+\n",
      "vfg 6.0 C\n",
      "vfd 8.0 C\n",
      "score is not true\n",
      "18.0 vf 6.0 vfg 12.0\n"
     ]
    }
   ],
   "source": [
    "# write code here :\n",
    "max1 = 0\n",
    "min1 = 20\n",
    "toya = 0\n",
    "\n",
    "for i in range (20):\n",
    " name = input(f\"Enter your name_{i+1}:\")\n",
    " score = float(input(f\"Enter your number_{i+1}:\"))\n",
    " if 0<=score<=20 :\n",
    "         if  score >=17 :\n",
    "             print(name,score ,\"A+\" )\n",
    "         elif 17>score>=15:\n",
    "             print(name,score ,\"A\" ) \n",
    "         elif 15>score>=10 :\n",
    "             print(name,score ,\"B\" )\n",
    "         elif score < 10 :\n",
    "             print(name,score ,\"C\" )\n",
    "             \n",
    "         if score > max1 :\n",
    "             max1 = score\n",
    "             numa = name\n",
    "         elif score < min1:\n",
    "             min1 = score \n",
    "             numi = name\n",
    "         toya += score \n",
    "else:\n",
    "             print(\"score is not true\")   \n",
    "            \n",
    "print(max1 , numa ,min1 , numi , toya // 20)      \n",
    "\n",
    "   \n",
    " \n",
    " \n",
    "\n"
   ]
  },
  {
   "cell_type": "markdown",
   "metadata": {},
   "source": [
    "<div style=\"color: black;font-family:Georgia;padding-top:18px;text-align:left;background-color:lightskyblue;border-radius:15px;border: 1px solid cornflowerblue;\"> \n",
    "    <h4>Question 04 (Loop)\n",
    "</h4>\n",
    "<p>\n",
    "Write a Python program to iterate through the numbers 1 to 10. For each\n",
    "number, if it is odd, multiply it by 5 and if it is even, add 5 to it. Display each\n",
    "operation as it is performed, and at the end, show the sum of the numbers\n",
    "obtained from the even numbers and the product of the numbers obtained from\n",
    "the odd numbers. Your output should follow the format shown below:\n",
    "\n",
    "</p>\n",
    "<ul>\n",
    "    <li>1 * 5 = 5</li>\n",
    "    <li>2 + 5 = 7</li>\n",
    "    <li>3 * 5 = 15</li>\n",
    "    <li>4 + 5 = 9</li>\n",
    "    <li>5 * 5 = 25</li>\n",
    "    <li>6 + 5 = 11</li>\n",
    "    <li>7 * 5 = 35</li>\n",
    "    <li>8 + 5 = 13</li>\n",
    "    <li>9 * 5 = 45</li>\n",
    "    <li>10 + 5 = 15</li>\n",
    "</ul>\n",
    "\n",
    "</div>"
   ]
  },
  {
   "cell_type": "code",
   "execution_count": 5,
   "metadata": {},
   "outputs": [
    {
     "name": "stdout",
     "output_type": "stream",
     "text": [
      " 1 * 5 = 5\n",
      " 2 + 5 = 7\n",
      " 3 * 5 = 15\n",
      " 4 + 5 = 9\n",
      " 5 * 5 = 25\n",
      " 6 + 5 = 11\n",
      " 7 * 5 = 35\n",
      " 8 + 5 = 13\n",
      " 9 * 5 = 45\n",
      " 10 + 5 = 15\n"
     ]
    }
   ],
   "source": [
    "# write here : \n",
    "for i in range (1,11):\n",
    "    if i % 2 != 0  :\n",
    "        result = i * 5\n",
    "        print(\" {} * {} = {}\". format(i,5,result))\n",
    "    else:\n",
    "        res = i + 5\n",
    "        print(\" {} + {} = {}\". format(i,5,res))\n",
    "\n",
    "\n",
    "       \n"
   ]
  },
  {
   "cell_type": "markdown",
   "metadata": {},
   "source": [
    "<h2 style=\"color: blue:; background-color: purple\">Good luck</h2>"
   ]
  }
 ],
 "metadata": {
  "kernelspec": {
   "display_name": "Python 3",
   "language": "python",
   "name": "python3"
  },
  "language_info": {
   "codemirror_mode": {
    "name": "ipython",
    "version": 3
   },
   "file_extension": ".py",
   "mimetype": "text/x-python",
   "name": "python",
   "nbconvert_exporter": "python",
   "pygments_lexer": "ipython3",
   "version": "3.12.1"
  }
 },
 "nbformat": 4,
 "nbformat_minor": 2
}
