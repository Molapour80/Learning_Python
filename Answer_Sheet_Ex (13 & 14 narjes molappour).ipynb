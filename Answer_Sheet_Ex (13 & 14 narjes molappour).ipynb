{
 "cells": [
  {
   "cell_type": "markdown",
   "id": "ead54e1a",
   "metadata": {},
   "source": [
    "<div style=\"color: white;padding-top:18px;text-align:center;background-color:#610C9F;border-radius:15px;border: 1px solid white;\"> \n",
    "    <h3>Exercise 13 (score:300 + 50(GitHub)\n",
    "    )</h3>\n",
    "</div>"
   ]
  },
  {
   "cell_type": "markdown",
   "id": "9986a78d",
   "metadata": {},
   "source": [
    "<div style=\"color: white;padding-top:18px;text-align:left;background-color:#940B92;border-radius:15px;border: 1px solid white;\"> \n",
    "    <h4>Question 01 (OOP)(100):</h4>\n",
    "    <p>Create a class Rectangle with attributes length and width and methods area(),\n",
    "</p>\n",
    "<p>perimeter() and display()for show length and width. Test your class by creating</p>\n",
    "<p>two objects and call attributes and methods forthis objects</p>\n",
    "</div>"
   ]
  },
  {
   "cell_type": "code",
   "execution_count": 1,
   "id": "7710ae23",
   "metadata": {},
   "outputs": [
    {
     "name": "stdout",
     "output_type": "stream",
     "text": [
      "Length: 5, Width: 3\n",
      "Area of rect1: 15\n",
      "Perimeter of rect1: 16\n",
      "Length: 7, Width: 4\n",
      "Area of rect2: 28\n",
      "Perimeter of rect2: 22\n"
     ]
    }
   ],
   "source": [
    "# write code here:\n",
    "class Rectangle:\n",
    "    def __init__(self, length, width):\n",
    "        self.length = length\n",
    "        self.width = width\n",
    "\n",
    "    def area(self):\n",
    "        return self.length * self.width\n",
    "\n",
    "    def perimeter(self):\n",
    "        return 2 * (self.length + self.width)\n",
    "\n",
    "    def display(self):\n",
    "        return f\"Length: {self.length}, Width: {self.width}\"\n",
    "\n",
    "rect1 = Rectangle(5, 3)\n",
    "rect2 = Rectangle(7, 4)\n",
    "\n",
    "\n",
    "print(rect1.display())\n",
    "print(f\"Area of rect1: {rect1.area()}\")\n",
    "print(f\"Perimeter of rect1: {rect1.perimeter()}\")\n",
    "\n",
    "\n",
    "print(rect2.display())\n",
    "print(f\"Area of rect2: {rect2.area()}\")\n",
    "print(f\"Perimeter of rect2: {rect2.perimeter()}\")\n",
    "    \n",
    "\n"
   ]
  },
  {
   "cell_type": "markdown",
   "id": "488e01d2",
   "metadata": {},
   "source": [
    "<div style=\"color: white;padding-top:18px;text-align:left;background-color:#940B92;border-radius:15px;border: 1px solid white;\"> \n",
    "    <h4>Question 02 (OOP)(100)</h4>\n",
    "<p> Create a Class Calculator</p>\n",
    "<p>Methods: Should include at least add(x, y), subtract(x, y), multiply(x, y), \n",
    "and divide(x, y). Each method performs the respective operation and \n",
    "returns the result.</p>"
   ]
  },
  {
   "cell_type": "code",
   "execution_count": 5,
   "id": "0d6db2ad",
   "metadata": {},
   "outputs": [
    {
     "name": "stdout",
     "output_type": "stream",
     "text": [
      " Additithin : 4 + 3 = 7\n",
      " subtract : 4 - 3 = 1\n",
      " multiply : 4 * 3 = 12\n",
      " divide : 4 / 3 = 1.3333333333333333\n"
     ]
    }
   ],
   "source": [
    "# write code here:\n",
    "class Calculator:\n",
    "    def add(self, x ,y):\n",
    "        return x + y\n",
    "    \n",
    "    def subtract(self ,x ,y):\n",
    "        return x - y \n",
    "    \n",
    "    def multiply(self , x , y ):\n",
    "        return x * y\n",
    "    \n",
    "    def divide(self , x , y ):\n",
    "        if y ==0:\n",
    "            raise ValueError(\"Can not divide by zero.\")         \n",
    "        return x / y\n",
    "    \n",
    "x = int(input(\"Enter your number X:\"))\n",
    "y = int(input(\"Enter your number Y:\"))\n",
    "cal = Calculator()\n",
    "\n",
    "\n",
    "print(f\" Additithin : {x} + {y} = {cal.add(x,y)}\")\n",
    "\n",
    "print(f\" subtract : {x} - {y} = {cal.subtract(x,y)}\")\n",
    "\n",
    "print(f\" multiply : {x} * {y} = {cal.multiply(x,y)}\")\n",
    "\n",
    "print(f\" divide : {x} / {y} = {cal.divide(x,y)}\")\n",
    "\n",
    "            \n",
    "        \n"
   ]
  },
  {
   "cell_type": "markdown",
   "id": "021be85c",
   "metadata": {},
   "source": [
    "<div style=\"color: white;padding-top:18px;text-align:left;background-color:#940B92;border-radius:15px;border: 1px solid white;\"> \n",
    "    <h4>Question 03 (OOP)(100)</h4>\n",
    "<p><b>Class Counter</b></p>\n",
    "<p>Attribute: count, initially set to zero.</p>\n",
    "<p>Methods:</p>\n",
    " <p>increment(): Increments count by 1.</p>\n",
    " <p>decrement(): Decrements count by 1, but never below zero.</p>\n",
    " <p>reset(): Resets count to zero.</p>\n",
    " <p>get_count(): Returns the current value of count</p>\n",
    "</div>"
   ]
  },
  {
   "cell_type": "code",
   "execution_count": 13,
   "id": "32b3c29d",
   "metadata": {},
   "outputs": [
    {
     "name": "stdout",
     "output_type": "stream",
     "text": [
      "count:1\n",
      "Count after increment: None\n",
      "count:1\n",
      "Count after decrement: None\n",
      "count:1\n",
      "Count before reset: None\n",
      "count:0\n",
      "Count after reset: None\n"
     ]
    }
   ],
   "source": [
    "# write code here:\n",
    "class counter :\n",
    "    def __init__(self) :\n",
    "        self.count = 0\n",
    "    def increment(self):\n",
    "        self.count =+ 1\n",
    "    def  decrement(self):\n",
    "        if self.count>1:\n",
    "             self.count =- 1\n",
    "    def reset(self):\n",
    "        self.count = 0\n",
    "\n",
    "    def get_rest(self):\n",
    "         print(f\"count:{self.count}\")\n",
    "\n",
    "\n",
    "counter=counter()\n",
    "counter.increment()\n",
    "print(f\"Count after increment: {counter.get_rest()}\")\n",
    "\n",
    "counter.decrement()\n",
    "print(f\"Count after decrement: {counter.get_rest()}\")\n",
    "\n",
    "\n",
    "counter.increment()\n",
    "counter.increment()\n",
    "print(f\"Count before reset: {counter.get_rest()}\") \n",
    "counter.reset()\n",
    "print(f\"Count after reset: {counter.get_rest()}\")\n",
    "\n",
    "\n",
    "\n",
    "\n",
    "\n",
    "\n",
    "\n",
    "\n"
   ]
  },
  {
   "cell_type": "markdown",
   "id": "0e2c870c",
   "metadata": {},
   "source": [
    "<div style=\"color: white;padding-top:18px;text-align:center;background-color:#610C9F;border-radius:15px;border: 1px solid white;\"> \n",
    "    <h3>Exercise 14 (score:200 + 50(GitHub)\n",
    "    )</h3>\n",
    "</div>"
   ]
  },
  {
   "cell_type": "markdown",
   "id": "98cda4ff",
   "metadata": {},
   "source": [
    "<div style=\"color: white;padding-top:18px;text-align:left;background-color:#940B92;border-radius:15px;border: 1px solid white;\"> \n",
    "    <h4>Question 01 (methods, attribute)(200)</h4>\n",
    "<p>You need to create a Python class Book with the following specifications:<p>\n",
    "<p>Each book has a id,title, year, author, price, and discount(all provided when the book is\n",
    "created).<p>\n",
    "<p>The id of each book follows a specific format:the firsttwo characters should be letters,and the lasttwo should be digits (e.g.,\"AB12\"). Ifthe ID is not valid,raise a ValueError.<p>\n",
    "<p>The class should include a method to calculate the total price ofthe book. The total price is calculated as the book’s price minus the discount.<p>\n",
    "<p>Include a method that prints how many books have been created.<p>\n",
    "<p>Implementthe __str__ method thatreturns a string representing the book’s details in\n",
    "the following format: \"Title:{title}, Author:{author}, Year:{year}, Price:{total_price}\".<p>\n",
    "\n",
    "</div>"
   ]
  },
  {
   "cell_type": "code",
   "execution_count": 10,
   "id": "e3856ce6",
   "metadata": {},
   "outputs": [
    {
     "name": "stdout",
     "output_type": "stream",
     "text": [
      "Title: Python , Author: John , Year: 2021, Price: 24.99\n",
      "Title: hello, Author: Jani, Year: 2020, Price: 29.99\n",
      "Total books created: 2\n",
      "Title: Machine , Author: Alice , Year: 2022, Price: 34.99\n",
      "Total books created: 3\n",
      "invalid: 123A\n"
     ]
    }
   ],
   "source": [
    "#write code here:\n",
    "class Book:\n",
    "    book_count = 0\n",
    "\n",
    "    def __init__(self, book_id, title, year, author, price, discount):\n",
    "        if not self.is_valid_id(book_id):\n",
    "            raise ValueError(f\"invalid: {book_id}\")\n",
    "        \n",
    "        self.id = book_id\n",
    "        self.title = title\n",
    "        self.year = year\n",
    "        self.author = author\n",
    "        self.price = price\n",
    "        self.discount = discount\n",
    "        \n",
    "        \n",
    "        Book.book_count += 1\n",
    "\n",
    "    @staticmethod\n",
    "    def is_valid_id(book_id):\n",
    "        \n",
    "        return len(book_id) == 4 and book_id[:2].isalpha() and book_id[2:].isdigit()\n",
    "\n",
    "    def total_price(self):\n",
    "        \n",
    "        return self.price - self.discount\n",
    "\n",
    "    @classmethod\n",
    "    def get_book_count(cls):\n",
    "        \n",
    "        return cls.book_count\n",
    "\n",
    "    def __str__(self):\n",
    "        \n",
    "        return (f\"Title: {self.title}, Author: {self.author}, Year: {self.year}, \"\n",
    "                f\"Price: {self.total_price():.2f}\")\n",
    "\n",
    "\n",
    "\n",
    "try:\n",
    "    book1 = Book(\"AB11\", \"Python \", 2021, \"John \", 29.99, 5.00)\n",
    "    print(book1)\n",
    "    \n",
    "    book2 = Book(\"vf54\", \"hello\", 2020, \"Jani\", 39.99, 10.00)\n",
    "    print(book2)\n",
    "    \n",
    "    print(f\"Total books created: {Book.get_book_count()}\")\n",
    "\n",
    "    book3 = Book(\"ZZ99\", \"Machine \", 2022, \"Alice \", 49.99, 15.00)\n",
    "    print(book3)\n",
    "    \n",
    "    print(f\"Total books created: {Book.get_book_count()}\")\n",
    "\n",
    "    book4 = Book(\"123A\", \"Invalid \", 2023, \"Invalid \", 19.99, 2.00)\n",
    "except ValueError as e:\n",
    "    print(e)\n",
    "\n",
    "\n",
    "\n"
   ]
  }
 ],
 "metadata": {
  "kernelspec": {
   "display_name": "Python 3 (ipykernel)",
   "language": "python",
   "name": "python3"
  },
  "language_info": {
   "codemirror_mode": {
    "name": "ipython",
    "version": 3
   },
   "file_extension": ".py",
   "mimetype": "text/x-python",
   "name": "python",
   "nbconvert_exporter": "python",
   "pygments_lexer": "ipython3",
   "version": "3.12.1"
  }
 },
 "nbformat": 4,
 "nbformat_minor": 5
}
